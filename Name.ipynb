name = input("What is your name? ")
age = input("What is your age? ")
print("Hi ", name, " you are ", age, " years old")
if int(age) < 18:
    print(name + " can't vote, but can buy ice cream :)")
elif int(age) > 18:
    print(name + " you're an adult and can do whatever you want")
         
if len(name) >= 6:
    print(name +" is also a very long name")
else:
    print("Nice name " + name)
